{
 "cells": [
  {
   "cell_type": "code",
   "execution_count": null,
   "metadata": {},
   "outputs": [],
   "source": [
    "import pyglet as pg\n",
    "import evolib as el\n",
    "import time\n",
    "\n",
    "width = 1280\n",
    "height = 720\n",
    "\n",
    "window = pg.window.Window(width, height)\n",
    "\n",
    "swarm_batch = pg.graphics.Batch()\n",
    "particles = []\n",
    "swarm = el.Swarm(\n",
    "    target_x=width/2,\n",
    "    target_y=height/2,\n",
    "    inertia_factor=0.5,\n",
    "    cognitive_factor=0.4,\n",
    "    social_factor=0.7,\n",
    "    swarm_group_factor=0.5,\n",
    "    swarm_target_factor=0.8,\n",
    "    swarm_random_factor=0.3,\n",
    "    speed=30.0,\n",
    "    max_speed=100.0,\n",
    "    total_creatures=10,\n",
    ")\n",
    "\n",
    "swarm.randomize()\n",
    "\n",
    "for p in swarm.get_creatures():\n",
    "    c = pg.shapes.BorderedRectangle(\n",
    "        p[0], p[1], 5, 5, \n",
    "        color=(255, 255, 255),\n",
    "        border_color=(0, 255, 0),\n",
    "        batch=swarm_batch\n",
    "    )\n",
    "    c.anchor_x = 2.5\n",
    "    c.anchor_y = 2.5\n",
    "    particles.append(c)\n",
    "\n",
    "#t = swarm.get_target()\n",
    "#target = pg.shapes.Circle(t[0], t[1], 5, color=(255, 0, 0), batch=swarm_batch)\n"
   ]
  },
  {
   "cell_type": "code",
   "execution_count": null,
   "metadata": {},
   "outputs": [],
   "source": [
    "def on_update(dt):\n",
    "    swarm.update(dt)\n",
    "    for i, p in enumerate(swarm.get_creatures()):\n",
    "        particles[i].x, particles[i].y = p[0], p[1]\n",
    "        particles[i].rotation += 10\n",
    "\n",
    "    #t = swarm.get_target()\n",
    "    #target.x, target.y = t[0], t[1]"
   ]
  },
  {
   "cell_type": "code",
   "execution_count": null,
   "metadata": {},
   "outputs": [],
   "source": [
    "@window.event\n",
    "def on_draw():\n",
    "    window.clear()\n",
    "    swarm_batch.draw()"
   ]
  },
  {
   "cell_type": "code",
   "execution_count": null,
   "metadata": {},
   "outputs": [],
   "source": [
    "pg.clock.schedule_interval(on_update, 1 / 30.0)\n",
    "pg.app.run()"
   ]
  }
 ],
 "metadata": {
  "kernelspec": {
   "display_name": "base",
   "language": "python",
   "name": "python3"
  },
  "language_info": {
   "codemirror_mode": {
    "name": "ipython",
    "version": 3
   },
   "file_extension": ".py",
   "mimetype": "text/x-python",
   "name": "python",
   "nbconvert_exporter": "python",
   "pygments_lexer": "ipython3",
   "version": "3.8.8"
  },
  "orig_nbformat": 4,
  "vscode": {
   "interpreter": {
    "hash": "3067ead486e059ec00ffe7555bdb889e6e264a24dc711bf108106cc7baee8d5d"
   }
  }
 },
 "nbformat": 4,
 "nbformat_minor": 2
}
