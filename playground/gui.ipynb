{
 "cells": [
  {
   "cell_type": "code",
   "execution_count": 1,
   "metadata": {},
   "outputs": [
    {
     "name": "stderr",
     "output_type": "stream",
     "text": [
      "2022-12-22 19:08:19.969 Python[60699:1107804] ApplePersistenceIgnoreState: Existing state will not be touched. New state will be written to /var/folders/5x/1l2dcd3x2gxb6d2yz03hxrcc0000gn/T/org.python.python.savedState\n"
     ]
    }
   ],
   "source": [
    "import pyglet as pg\n",
    "import time\n",
    "\n",
    "width = 1280\n",
    "height = 720\n",
    "\n",
    "window = pg.window.Window(width, height)\n",
    "\n",
    "batch = pg.graphics.Batch()\n",
    "\n",
    "pressed = pg.image.load('../assets/ui/buttonSquare_brown_pressed.png')\n",
    "hover = pg.image.load('../assets/ui/buttonSquare_brown.png')\n",
    "depressed = pg.image.load('../assets/ui/arrowBlue_left.png') \n",
    "\n",
    "button = pg.gui.widgets.PushButton(100, 100, pressed, depressed, hover=hover, batch=batch)"
   ]
  },
  {
   "cell_type": "code",
   "execution_count": 2,
   "metadata": {},
   "outputs": [],
   "source": [
    "def on_update(dt):\n",
    "    pass"
   ]
  },
  {
   "cell_type": "code",
   "execution_count": 3,
   "metadata": {},
   "outputs": [],
   "source": [
    "@window.event\n",
    "def on_draw():\n",
    "    window.clear()\n",
    "    batch.draw()\n",
    "\n",
    "@window.event\n",
    "def on_mouse_press(x, y, button, modifiers):\n",
    "    pass"
   ]
  },
  {
   "cell_type": "code",
   "execution_count": 4,
   "metadata": {},
   "outputs": [
    {
     "name": "stderr",
     "output_type": "stream",
     "text": [
      "Exception ignored on calling ctypes callback function: <function ObjCSubclass.method.<locals>.decorator.<locals>.objc_method at 0x10a663e50>\n",
      "Traceback (most recent call last):\n",
      "  File \"/Users/jack.mead/.local/share/virtualenvs/evo_sim-hF5EBmkC/lib/python3.9/site-packages/pyglet/libs/darwin/cocoapy/runtime.py\", line 1141, in objc_method\n",
      "    result = f(py_self, *args)\n",
      "  File \"/Users/jack.mead/.local/share/virtualenvs/evo_sim-hF5EBmkC/lib/python3.9/site-packages/pyglet/window/cocoa/pyglet_view.py\", line 294, in mouseDown_\n",
      "    self._window.dispatch_event('on_mouse_press', x, y, buttons, modifiers)\n",
      "  File \"/Users/jack.mead/.local/share/virtualenvs/evo_sim-hF5EBmkC/lib/python3.9/site-packages/pyglet/window/__init__.py\", line 1363, in dispatch_event\n",
      "    super().dispatch_event(*args)\n",
      "  File \"/Users/jack.mead/.local/share/virtualenvs/evo_sim-hF5EBmkC/lib/python3.9/site-packages/pyglet/event.py\", line 415, in dispatch_event\n",
      "    if handler(*args):\n",
      "  File \"/var/folders/5x/1l2dcd3x2gxb6d2yz03hxrcc0000gn/T/ipykernel_60699/858150848.py\", line 8, in on_mouse_press\n",
      "AttributeError: 'int' object has no attribute 'on_mouse_press'\n",
      "Exception ignored on calling ctypes callback function: <function ObjCSubclass.method.<locals>.decorator.<locals>.objc_method at 0x10a663e50>\n",
      "Traceback (most recent call last):\n",
      "  File \"/Users/jack.mead/.local/share/virtualenvs/evo_sim-hF5EBmkC/lib/python3.9/site-packages/pyglet/libs/darwin/cocoapy/runtime.py\", line 1141, in objc_method\n",
      "    result = f(py_self, *args)\n",
      "  File \"/Users/jack.mead/.local/share/virtualenvs/evo_sim-hF5EBmkC/lib/python3.9/site-packages/pyglet/window/cocoa/pyglet_view.py\", line 294, in mouseDown_\n",
      "    self._window.dispatch_event('on_mouse_press', x, y, buttons, modifiers)\n",
      "  File \"/Users/jack.mead/.local/share/virtualenvs/evo_sim-hF5EBmkC/lib/python3.9/site-packages/pyglet/window/__init__.py\", line 1363, in dispatch_event\n",
      "    super().dispatch_event(*args)\n",
      "  File \"/Users/jack.mead/.local/share/virtualenvs/evo_sim-hF5EBmkC/lib/python3.9/site-packages/pyglet/event.py\", line 415, in dispatch_event\n",
      "    if handler(*args):\n",
      "  File \"/var/folders/5x/1l2dcd3x2gxb6d2yz03hxrcc0000gn/T/ipykernel_60699/858150848.py\", line 8, in on_mouse_press\n",
      "AttributeError: 'int' object has no attribute 'on_mouse_press'\n",
      "Exception ignored on calling ctypes callback function: <function ObjCSubclass.method.<locals>.decorator.<locals>.objc_method at 0x10a663e50>\n",
      "Traceback (most recent call last):\n",
      "  File \"/Users/jack.mead/.local/share/virtualenvs/evo_sim-hF5EBmkC/lib/python3.9/site-packages/pyglet/libs/darwin/cocoapy/runtime.py\", line 1141, in objc_method\n",
      "    result = f(py_self, *args)\n",
      "  File \"/Users/jack.mead/.local/share/virtualenvs/evo_sim-hF5EBmkC/lib/python3.9/site-packages/pyglet/window/cocoa/pyglet_view.py\", line 294, in mouseDown_\n",
      "    self._window.dispatch_event('on_mouse_press', x, y, buttons, modifiers)\n",
      "  File \"/Users/jack.mead/.local/share/virtualenvs/evo_sim-hF5EBmkC/lib/python3.9/site-packages/pyglet/window/__init__.py\", line 1363, in dispatch_event\n",
      "    super().dispatch_event(*args)\n",
      "  File \"/Users/jack.mead/.local/share/virtualenvs/evo_sim-hF5EBmkC/lib/python3.9/site-packages/pyglet/event.py\", line 415, in dispatch_event\n",
      "    if handler(*args):\n",
      "  File \"/var/folders/5x/1l2dcd3x2gxb6d2yz03hxrcc0000gn/T/ipykernel_60699/858150848.py\", line 8, in on_mouse_press\n",
      "AttributeError: 'int' object has no attribute 'on_mouse_press'\n",
      "Exception ignored on calling ctypes callback function: <function ObjCSubclass.method.<locals>.decorator.<locals>.objc_method at 0x10a663e50>\n",
      "Traceback (most recent call last):\n",
      "  File \"/Users/jack.mead/.local/share/virtualenvs/evo_sim-hF5EBmkC/lib/python3.9/site-packages/pyglet/libs/darwin/cocoapy/runtime.py\", line 1141, in objc_method\n",
      "    result = f(py_self, *args)\n",
      "  File \"/Users/jack.mead/.local/share/virtualenvs/evo_sim-hF5EBmkC/lib/python3.9/site-packages/pyglet/window/cocoa/pyglet_view.py\", line 294, in mouseDown_\n",
      "    self._window.dispatch_event('on_mouse_press', x, y, buttons, modifiers)\n",
      "  File \"/Users/jack.mead/.local/share/virtualenvs/evo_sim-hF5EBmkC/lib/python3.9/site-packages/pyglet/window/__init__.py\", line 1363, in dispatch_event\n",
      "    super().dispatch_event(*args)\n",
      "  File \"/Users/jack.mead/.local/share/virtualenvs/evo_sim-hF5EBmkC/lib/python3.9/site-packages/pyglet/event.py\", line 415, in dispatch_event\n",
      "    if handler(*args):\n",
      "  File \"/var/folders/5x/1l2dcd3x2gxb6d2yz03hxrcc0000gn/T/ipykernel_60699/858150848.py\", line 8, in on_mouse_press\n",
      "AttributeError: 'int' object has no attribute 'on_mouse_press'\n"
     ]
    },
    {
     "ename": "KeyboardInterrupt",
     "evalue": "",
     "output_type": "error",
     "traceback": [
      "\u001b[0;31m---------------------------------------------------------------------------\u001b[0m",
      "\u001b[0;31mKeyboardInterrupt\u001b[0m                         Traceback (most recent call last)",
      "Cell \u001b[0;32mIn[4], line 5\u001b[0m\n\u001b[1;32m      1\u001b[0m pg\u001b[39m.\u001b[39mclock\u001b[39m.\u001b[39mschedule_interval(on_update, \u001b[39m1\u001b[39m \u001b[39m/\u001b[39m \u001b[39m30.0\u001b[39m)\n\u001b[1;32m      3\u001b[0m window\u001b[39m.\u001b[39mactivate()\n\u001b[0;32m----> 5\u001b[0m pg\u001b[39m.\u001b[39;49mapp\u001b[39m.\u001b[39;49mrun()\n",
      "File \u001b[0;32m~/.local/share/virtualenvs/evo_sim-hF5EBmkC/lib/python3.9/site-packages/pyglet/app/__init__.py:107\u001b[0m, in \u001b[0;36mrun\u001b[0;34m(interval)\u001b[0m\n\u001b[1;32m     99\u001b[0m \u001b[39mdef\u001b[39;00m \u001b[39mrun\u001b[39m(interval\u001b[39m=\u001b[39m\u001b[39m1\u001b[39m\u001b[39m/\u001b[39m\u001b[39m60\u001b[39m):\n\u001b[1;32m    100\u001b[0m     \u001b[39m\"\"\"Begin processing events, scheduled functions and window updates.\u001b[39;00m\n\u001b[1;32m    101\u001b[0m \n\u001b[1;32m    102\u001b[0m \u001b[39m    This is a convenience function, equivalent to::\u001b[39;00m\n\u001b[0;32m   (...)\u001b[0m\n\u001b[1;32m    105\u001b[0m \n\u001b[1;32m    106\u001b[0m \u001b[39m    \"\"\"\u001b[39;00m\n\u001b[0;32m--> 107\u001b[0m     event_loop\u001b[39m.\u001b[39;49mrun(interval)\n",
      "File \u001b[0;32m~/.local/share/virtualenvs/evo_sim-hF5EBmkC/lib/python3.9/site-packages/pyglet/app/base.py:187\u001b[0m, in \u001b[0;36mEventLoop.run\u001b[0;34m(self, interval)\u001b[0m\n\u001b[1;32m    185\u001b[0m \u001b[39mwhile\u001b[39;00m \u001b[39mnot\u001b[39;00m \u001b[39mself\u001b[39m\u001b[39m.\u001b[39mhas_exit:\n\u001b[1;32m    186\u001b[0m     timeout \u001b[39m=\u001b[39m \u001b[39mself\u001b[39m\u001b[39m.\u001b[39midle()\n\u001b[0;32m--> 187\u001b[0m     platform_event_loop\u001b[39m.\u001b[39;49mstep(timeout)\n\u001b[1;32m    189\u001b[0m \u001b[39mself\u001b[39m\u001b[39m.\u001b[39mis_running \u001b[39m=\u001b[39m \u001b[39mFalse\u001b[39;00m\n\u001b[1;32m    190\u001b[0m \u001b[39mself\u001b[39m\u001b[39m.\u001b[39mdispatch_event(\u001b[39m'\u001b[39m\u001b[39mon_exit\u001b[39m\u001b[39m'\u001b[39m)\n",
      "File \u001b[0;32m~/.local/share/virtualenvs/evo_sim-hF5EBmkC/lib/python3.9/site-packages/pyglet/app/cocoa.py:142\u001b[0m, in \u001b[0;36mCocoaEventLoop.step\u001b[0;34m(self, timeout)\u001b[0m\n\u001b[1;32m    138\u001b[0m \u001b[39m# Retrieve the next event (if any).  We wait for an event to show up\u001b[39;00m\n\u001b[1;32m    139\u001b[0m \u001b[39m# and then process it, or if timeout_date expires we simply return.\u001b[39;00m\n\u001b[1;32m    140\u001b[0m \u001b[39m# We only process one event per call of step().\u001b[39;00m\n\u001b[1;32m    141\u001b[0m \u001b[39mself\u001b[39m\u001b[39m.\u001b[39m_is_running\u001b[39m.\u001b[39mset()\n\u001b[0;32m--> 142\u001b[0m event \u001b[39m=\u001b[39m \u001b[39mself\u001b[39;49m\u001b[39m.\u001b[39;49mNSApp\u001b[39m.\u001b[39;49mnextEventMatchingMask_untilDate_inMode_dequeue_(\n\u001b[1;32m    143\u001b[0m     cocoapy\u001b[39m.\u001b[39;49mNSAnyEventMask, timeout_date, cocoapy\u001b[39m.\u001b[39;49mNSDefaultRunLoopMode, \u001b[39mTrue\u001b[39;49;00m)\n\u001b[1;32m    145\u001b[0m \u001b[39m# Dispatch the event (if any).\u001b[39;00m\n\u001b[1;32m    146\u001b[0m \u001b[39mif\u001b[39;00m event \u001b[39mis\u001b[39;00m \u001b[39mnot\u001b[39;00m \u001b[39mNone\u001b[39;00m:\n",
      "File \u001b[0;32m~/.local/share/virtualenvs/evo_sim-hF5EBmkC/lib/python3.9/site-packages/pyglet/libs/darwin/cocoapy/runtime.py:805\u001b[0m, in \u001b[0;36mObjCBoundMethod.__call__\u001b[0;34m(self, *args)\u001b[0m\n\u001b[1;32m    803\u001b[0m \u001b[39mdef\u001b[39;00m \u001b[39m__call__\u001b[39m(\u001b[39mself\u001b[39m, \u001b[39m*\u001b[39margs):\n\u001b[1;32m    804\u001b[0m     \u001b[39m\"\"\"Call the method with the given arguments.\"\"\"\u001b[39;00m\n\u001b[0;32m--> 805\u001b[0m     \u001b[39mreturn\u001b[39;00m \u001b[39mself\u001b[39;49m\u001b[39m.\u001b[39;49mmethod(\u001b[39mself\u001b[39;49m\u001b[39m.\u001b[39;49mobjc_id, \u001b[39m*\u001b[39;49margs)\n",
      "File \u001b[0;32m~/.local/share/virtualenvs/evo_sim-hF5EBmkC/lib/python3.9/site-packages/pyglet/libs/darwin/cocoapy/runtime.py:775\u001b[0m, in \u001b[0;36mObjCMethod.__call__\u001b[0;34m(self, objc_id, *args)\u001b[0m\n\u001b[1;32m    773\u001b[0m f \u001b[39m=\u001b[39m \u001b[39mself\u001b[39m\u001b[39m.\u001b[39mget_callable()\n\u001b[1;32m    774\u001b[0m \u001b[39mtry\u001b[39;00m:\n\u001b[0;32m--> 775\u001b[0m     result \u001b[39m=\u001b[39m f(objc_id, \u001b[39mself\u001b[39;49m\u001b[39m.\u001b[39;49mselector, \u001b[39m*\u001b[39;49margs)\n\u001b[1;32m    776\u001b[0m     \u001b[39m# Convert result to python type if it is a instance or class pointer.\u001b[39;00m\n\u001b[1;32m    777\u001b[0m     \u001b[39mif\u001b[39;00m \u001b[39mself\u001b[39m\u001b[39m.\u001b[39mrestype \u001b[39m==\u001b[39m ObjCInstance:\n",
      "\u001b[0;31mKeyboardInterrupt\u001b[0m: "
     ]
    }
   ],
   "source": [
    "pg.clock.schedule_interval(on_update, 1 / 30.0)\n",
    "\n",
    "window.activate()\n",
    "\n",
    "pg.app.run()"
   ]
  }
 ],
 "metadata": {
  "kernelspec": {
   "display_name": "evo_sim-hF5EBmkC",
   "language": "python",
   "name": "python3"
  },
  "language_info": {
   "codemirror_mode": {
    "name": "ipython",
    "version": 3
   },
   "file_extension": ".py",
   "mimetype": "text/x-python",
   "name": "python",
   "nbconvert_exporter": "python",
   "pygments_lexer": "ipython3",
   "version": "3.9.13 (main, Aug  7 2022, 01:33:23) \n[Clang 13.1.6 (clang-1316.0.21.2.5)]"
  },
  "orig_nbformat": 4,
  "vscode": {
   "interpreter": {
    "hash": "25dcb14b4abf4e20534c0208c12dc15f5493881f935a94858d15a67cac9f4154"
   }
  }
 },
 "nbformat": 4,
 "nbformat_minor": 2
}
