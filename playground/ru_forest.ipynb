{
 "cells": [
  {
   "cell_type": "code",
   "execution_count": null,
   "metadata": {},
   "outputs": [],
   "source": [
    "import pyglet as pg\n",
    "import evolib as el\n",
    "import numpy as np\n",
    "import time\n",
    "\n",
    "width = 1280\n",
    "height = 720\n",
    "\n",
    "window = pg.window.Window(width, height)\n",
    "batch = pg.graphics.Batch()\n",
    "\n",
    "particles = []\n",
    "\n",
    "forest = el.Forest(\n",
    "    seed=12342214,\n",
    "    frequency=0.8,\n",
    "    power=3.0,\n",
    "    roughness=10,\n",
    "    max_plants=1000,\n",
    "    start_position=[width // 2, height // 2],\n",
    ")\n",
    "\n",
    "wind = list(np.random.uniform(-1, 1, size=2))\n",
    "\n",
    "iterator = 1\n",
    "\n",
    "for p in forest.get_plants():\n",
    "    c = pg.shapes.BorderedRectangle(\n",
    "        p[0], p[1], 1, 1, \n",
    "        color=(255, 255, 255),\n",
    "        border_color=(0, 255, 0),\n",
    "        batch=batch\n",
    "    )\n",
    "    c.anchor_x = 2.5\n",
    "    c.anchor_y = 2.5\n",
    "    particles.append(c)"
   ]
  },
  {
   "cell_type": "code",
   "execution_count": null,
   "metadata": {},
   "outputs": [],
   "source": [
    "def on_update(dt):\n",
    "    global wind, iterator\n",
    "    iterator += 1\n",
    "    if iterator % 100 == 0:\n",
    "        wind = list(np.random.uniform(-1, 1, size=2))\n",
    "    plant = forest.update(dt, wind)\n",
    "    if plant:\n",
    "        c = pg.shapes.BorderedRectangle(\n",
    "            plant[0], plant[1], 5, 5, \n",
    "            color=(255, 255, 255),\n",
    "            border_color=(0, 255, 0),\n",
    "            batch=batch\n",
    "        )\n",
    "        c.anchor_x = 2.5\n",
    "        c.anchor_y = 2.5\n",
    "        particles.append(c)"
   ]
  },
  {
   "cell_type": "code",
   "execution_count": null,
   "metadata": {},
   "outputs": [],
   "source": [
    "@window.event\n",
    "def on_draw():\n",
    "    window.clear()\n",
    "    batch.draw()"
   ]
  },
  {
   "cell_type": "code",
   "execution_count": null,
   "metadata": {},
   "outputs": [],
   "source": [
    "pg.clock.schedule_interval(on_update, 1 / 30.0)\n",
    "pg.app.run()"
   ]
  }
 ],
 "metadata": {
  "kernelspec": {
   "display_name": "base",
   "language": "python",
   "name": "python3"
  },
  "language_info": {
   "codemirror_mode": {
    "name": "ipython",
    "version": 3
   },
   "file_extension": ".py",
   "mimetype": "text/x-python",
   "name": "python",
   "nbconvert_exporter": "python",
   "pygments_lexer": "ipython3",
   "version": "3.8.8 (default, Apr 13 2021, 12:59:45) \n[Clang 10.0.0 ]"
  },
  "orig_nbformat": 4,
  "vscode": {
   "interpreter": {
    "hash": "3067ead486e059ec00ffe7555bdb889e6e264a24dc711bf108106cc7baee8d5d"
   }
  }
 },
 "nbformat": 4,
 "nbformat_minor": 2
}
