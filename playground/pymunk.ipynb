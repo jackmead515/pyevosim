{
 "cells": [
  {
   "cell_type": "code",
   "execution_count": null,
   "metadata": {},
   "outputs": [],
   "source": [
    "import pymunk as pm"
   ]
  },
  {
   "cell_type": "code",
   "execution_count": null,
   "metadata": {},
   "outputs": [],
   "source": [
    "space = pm.Space()      # Create a Space which contain the simulation\n",
    "space.gravity = 0,0      # Set its gravity\n",
    "\n",
    "body = pm.Body()        # Create a Body\n",
    "body.position = 50,100      # Set the position of the body\n",
    "\n",
    "poly = pm.Poly.create_box(body) # Create a box shape and attach to body\n",
    "poly.mass = 10              # Set the mass on the shape\n",
    "space.add(body, poly)       # Add both body and shape to the simulation\n",
    "\n",
    "while True:                 # Infinite loop simulation\n",
    "    space.step(0.02)        # Step the simulation one step forward\n",
    "   #space.debug_draw(print_options) # Print the state of the simulation"
   ]
  }
 ],
 "metadata": {
  "kernelspec": {
   "display_name": "evo_sim-hF5EBmkC",
   "language": "python",
   "name": "python3"
  },
  "language_info": {
   "codemirror_mode": {
    "name": "ipython",
    "version": 3
   },
   "file_extension": ".py",
   "mimetype": "text/x-python",
   "name": "python",
   "nbconvert_exporter": "python",
   "pygments_lexer": "ipython3",
   "version": "3.9.13 (main, Aug  7 2022, 01:33:23) \n[Clang 13.1.6 (clang-1316.0.21.2.5)]"
  },
  "orig_nbformat": 4,
  "vscode": {
   "interpreter": {
    "hash": "25dcb14b4abf4e20534c0208c12dc15f5493881f935a94858d15a67cac9f4154"
   }
  }
 },
 "nbformat": 4,
 "nbformat_minor": 2
}
